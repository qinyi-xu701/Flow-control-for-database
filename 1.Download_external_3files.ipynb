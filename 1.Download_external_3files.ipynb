{
 "cells": [
  {
   "cell_type": "code",
   "execution_count": 11,
   "metadata": {},
   "outputs": [
    {
     "data": {
      "text/plain": [
       "'QiXu260'"
      ]
     },
     "execution_count": 11,
     "metadata": {},
     "output_type": "execute_result"
    }
   ],
   "source": [
    "import datetime\n",
    "import os\n",
    "import win32com.client\n",
    "from pathlib import Path\n",
    "import re\n",
    "import getpass\n",
    "\n",
    "username = getpass.getuser()\n",
    "username"
   ]
  },
  {
   "cell_type": "code",
   "execution_count": 12,
   "metadata": {},
   "outputs": [],
   "source": [
    "#path and date variable\n",
    "#C:\\Users\\QiXu260\\New OneDrive\\HP Inc\\GPS TW Innovation - Documents\\Project team\n",
    "home = os.path.expanduser('~')\n",
    "if username == 'panj':\n",
    "    path = os.path.join(home,'New OneDrive', 'HP Inc','GPS TW Innovation - 文件','Project team','Project RiXin - Shortage management') #Jesse \n",
    "else:\n",
    "    path = os.path.join(home,'New OneDrive', 'HP Inc','GPS TW Innovation - Documents','Project team','Project RiXin - Shortage management') # Dustin"
   ]
  },
  {
   "cell_type": "code",
   "execution_count": 13,
   "metadata": {},
   "outputs": [
    {
     "data": {
      "text/plain": [
       "<COMObject Item>"
      ]
     },
     "execution_count": 13,
     "metadata": {},
     "output_type": "execute_result"
    }
   ],
   "source": [
    "today = datetime.date.today()\n",
    "outlook = win32com.client.Dispatch(\"Outlook.Application\").GetNamespace(\"MAPI\")\n",
    "outlook.Session.Accounts.Item(2)"
   ]
  },
  {
   "cell_type": "code",
   "execution_count": 14,
   "metadata": {},
   "outputs": [],
   "source": [
    "# get into the correct email inbox\n",
    "item = outlook.Folders.Item(2)\n",
    "if item.Name != 'gpscommunication@hp.com':\n",
    "    item = outlook.Folders.Item(1)\n",
    "else:\n",
    "    pass"
   ]
  },
  {
   "cell_type": "code",
   "execution_count": 15,
   "metadata": {},
   "outputs": [],
   "source": [
    "#get into inbox and get emails\n",
    "try:\n",
    "    inbox = item.Folders['inbox']\n",
    "except:\n",
    "    inbox = item.Folders['Inbox']\n",
    "project_folder = inbox.Folders['Newcomen']\n",
    "target_folder = project_folder.Folders['Processed_Data']\n",
    "messages = target_folder.Items"
   ]
  },
  {
   "cell_type": "code",
   "execution_count": 16,
   "metadata": {},
   "outputs": [],
   "source": [
    "# sort by message sent time\n",
    "messages.Sort(\"[Senton]\")"
   ]
  },
  {
   "cell_type": "code",
   "execution_count": 17,
   "metadata": {},
   "outputs": [],
   "source": [
    "def saveattachemnts(regex = '.*<(\\d{4}-\\d{2}-\\d{2}) processed data>\\[\\'\\d{8}_[&a-zA-Z ]+_[&a-zA-Z ]+_.*'):\n",
    "    #regex = '<(\\d{4}-\\d{2}-\\d{2}) processed data>\\[\\'\\d{8}_[a-zA-Z]+_[a-zA-Z]+_.*'\n",
    "    for message in messages:\n",
    "        # if message.Subject == subject and message.Unread or message.Senton.date() == today:\n",
    "        #assert re.match(regex, message.Subject)\n",
    "        #if re.match(regex, message.Subject):\n",
    "        if (message.Unread or message.Senton.date() == today) and re.match(regex, message.Subject) :\n",
    "            #body_content = message.body\n",
    "            #print(message.Sender.GetExchangeUser().PrimarySmtpAddress)\n",
    "            #attachments = message.Attachments\n",
    "            #attachment = attachments.Item(1)\n",
    "            for attachment in message.Attachments:\n",
    "                #print(attachment)\n",
    "\n",
    "                if '_FD.xlsx' in str(attachment):\n",
    "                    try:\n",
    "                        attachment.SaveAsFile(os.path.join(path,'Upload_folder', 'FD_today', str(attachment)))\n",
    "                    except Exception as e:\n",
    "                        print(attachment)\n",
    "                        print(e)\n",
    "                    if re.match(regex, message.Subject) and message.Unread:\n",
    "                        message.Unread = False\n",
    "                    continue\n",
    "                elif '_Shortage.xlsx' in str(attachment):\n",
    "                    try: \n",
    "                        attachment.SaveAsFile(os.path.join(path,'Upload_folder', 'shortage_today', str(attachment)))\n",
    "                    except Exception as e:\n",
    "                        print(attachment)\n",
    "                        print(e)\n",
    "                    if re.match(regex, message.Subject) and message.Unread:\n",
    "                        message.Unread = False\n",
    "                    continue\n",
    "                elif '_PNbasedDetail.xlsx' in str(attachment):\n",
    "                    try:\n",
    "                        attachment.SaveAsFile(os.path.join(path,'Upload_folder', 'PNbasedDetail_today', str(attachment)))\n",
    "                    except Exception as e:\n",
    "                        print(attachment)\n",
    "                        print(e)\n",
    "                    if re.match(regex, message.Subject) and message.Unread:\n",
    "                        message.Unread = False\n",
    "                    continue\n",
    "                if '_reason' in str(attachment):\n",
    "                    try:\n",
    "                        attachment.SaveAsFile(os.path.join(path,'Upload_folder', 'error_reason', str(message.Sender.GetExchangeUser().PrimarySmtpAddress).split('@')[0].replace('.', '_') + '_' + str(attachment)))\n",
    "                        print(message.Sender.GetExchangeUser().PrimarySmtpAddress)\n",
    "                    except Exception as e:\n",
    "                        print(attachment)\n",
    "                        print(e)\n",
    "                    if re.match(regex, message.Subject) and message.Unread:\n",
    "                        message.Unread = False\n",
    "                    continue\n",
    "\n",
    "                else:\n",
    "                    try:                        \n",
    "                        attachment.SaveAsFile(os.path.join(path, 'External_Destination', 'today',str(attachment)))                    \n",
    "                    except Exception as e:\n",
    "                        print(attachment)\n",
    "                        print(e)\n",
    "        else:\n",
    "            pass"
   ]
  },
  {
   "cell_type": "code",
   "execution_count": 18,
   "metadata": {},
   "outputs": [],
   "source": [
    "# saveattachemnts()"
   ]
  },
  {
   "attachments": {},
   "cell_type": "markdown",
   "metadata": {},
   "source": [
    "new data --> will save to [today] <br>\n",
    "amend datat --> will save to [today] & [amend]"
   ]
  },
  {
   "cell_type": "code",
   "execution_count": 19,
   "metadata": {},
   "outputs": [],
   "source": [
    "def saveattachemnts2(regex = '<(\\d{4}-\\d{2}-\\d{2}) processed data>\\[\\'\\d{8}_[&a-zA-Z ]+_[&a-zA-Z ]+_.*'):\n",
    "    #regex = '<(\\d{4}-\\d{2}-\\d{2}) processed data>\\[\\'\\d{8}_[a-zA-Z]+_[a-zA-Z]+_.*'\n",
    "    for message in messages:\n",
    "        # if message.Subject == subject and message.Unread or message.Senton.date() == today:\n",
    "        #assert re.match(regex, message.Subject)\n",
    "        #if re.match(regex, message.Subject):\n",
    "        if (message.Unread or message.Senton.date() == today) and re.match(regex, message.Subject) :\n",
    "            #body_content = message.body\n",
    "            #print(message.Sender.GetExchangeUser().PrimarySmtpAddress)\n",
    "            #attachments = message.Attachments\n",
    "            #attachment = attachments.Item(1)\n",
    "            for attachment in message.Attachments:\n",
    "                #print(attachment)\n",
    "\n",
    "                if '_FD.xlsx' in str(attachment):\n",
    "                    try:\n",
    "                        attachment.SaveAsFile(os.path.join(path, 'Upload_folder', 'FD_today', str(attachment)))\n",
    "                    except Exception as e:\n",
    "                        print(attachment)\n",
    "                        print(e)\n",
    "                    if re.match(regex, message.Subject) and message.Unread:\n",
    "                        message.Unread = False\n",
    "                    continue\n",
    "                elif '_Shortage.xlsx' in str(attachment):\n",
    "                    try: \n",
    "                        attachment.SaveAsFile(os.path.join(path, 'Upload_folder', 'shortage_today', str(attachment)))\n",
    "                    except Exception as e:\n",
    "                        print(attachment)\n",
    "                        print(e)\n",
    "                    if re.match(regex, message.Subject) and message.Unread:\n",
    "                        message.Unread = False\n",
    "                    continue\n",
    "                elif '_PNbasedDetail.xlsx' in str(attachment):\n",
    "                    try:\n",
    "                        attachment.SaveAsFile(os.path.join(path, 'Upload_folder', 'PNbasedDetail_today', str(attachment)))\n",
    "                    except Exception as e:\n",
    "                        print(attachment)\n",
    "                        print(e)\n",
    "                    if re.match(regex, message.Subject) and message.Unread:\n",
    "                        message.Unread = False\n",
    "                    continue\n",
    "                if '_reason' in str(attachment):\n",
    "                    try:\n",
    "                        attachment.SaveAsFile(os.path.join(path, 'Upload_folder', 'error_reason', str(message.Sender.GetExchangeUser().PrimarySmtpAddress).split('@')[0].replace('.', '_') + '_' + str(attachment)))\n",
    "                        print(message.Sender.GetExchangeUser().PrimarySmtpAddress)\n",
    "                    except Exception as e:\n",
    "                        print(attachment)\n",
    "                        print(e)\n",
    "                    if re.match(regex, message.Subject) and message.Unread:\n",
    "                        message.Unread = False\n",
    "                    continue\n",
    "\n",
    "                else:\n",
    "                    try:                        \n",
    "                        attachment.SaveAsFile(os.path.join(path,'External_Destination', 'today',str(attachment)))                    \n",
    "                    except Exception as e:\n",
    "                        print(attachment)\n",
    "                        print(e)\n",
    "        elif (message.Unread or message.Senton.date() == today) and re.match('.*<(\\d{4}-\\d{2}-\\d{2}) processed data>\\[\\'\\d{8}_[&a-zA-Z ]+_[&a-zA-Z ]+_.*', message.Subject) :  #amend data\n",
    "            #body_content = message.body\n",
    "            #print(message.Sender.GetExchangeUser().PrimarySmtpAddress)\n",
    "            #attachments = message.Attachments\n",
    "            #attachment = attachments.Item(1)\n",
    "            for attachment in message.Attachments:\n",
    "                #print(attachment)\n",
    "\n",
    "                if '_FD.xlsx' in str(attachment):\n",
    "                    try:\n",
    "                        attachment.SaveAsFile(os.path.join(path, 'Upload_folder', 'FD_today','amend', str(attachment)))\n",
    "                        attachment.SaveAsFile(os.path.join(path, 'Upload_folder', 'FD_today', str(attachment)))\n",
    "                    except Exception as e:\n",
    "                        print(attachment)\n",
    "                        print(e)\n",
    "                    if re.match('.*<(\\d{4}-\\d{2}-\\d{2}) processed data>\\[\\'\\d{8}_[&a-zA-Z ]+_[&a-zA-Z ]+_.*', message.Subject) and message.Unread:\n",
    "                        message.Unread = False\n",
    "                    continue\n",
    "                elif '_Shortage.xlsx' in str(attachment):\n",
    "                    try: \n",
    "                        attachment.SaveAsFile(os.path.join(path, 'Upload_folder', 'shortage_today','amend', str(attachment)))\n",
    "                        attachment.SaveAsFile(os.path.join(path, 'Upload_folder', 'shortage_today', str(attachment)))\n",
    "                    except Exception as e:\n",
    "                        print(attachment)\n",
    "                        print(e)\n",
    "                    if re.match('.*<(\\d{4}-\\d{2}-\\d{2}) processed data>\\[\\'\\d{8}_[&a-zA-Z ]+_[&a-zA-Z ]+_.*', message.Subject) and message.Unread:\n",
    "                        message.Unread = False\n",
    "                    continue\n",
    "                elif '_PNbasedDetail.xlsx' in str(attachment):\n",
    "                    try:\n",
    "                        attachment.SaveAsFile(os.path.join(path, 'Upload_folder', 'PNbasedDetail_today','amend' ,str(attachment)))\n",
    "                        attachment.SaveAsFile(os.path.join(path, 'Upload_folder', 'PNbasedDetail_today' ,str(attachment)))\n",
    "                    except Exception as e:\n",
    "                        print(attachment)\n",
    "                        print(e)\n",
    "                    if re.match('.*<(\\d{4}-\\d{2}-\\d{2}) processed data>\\[\\'\\d{8}_[&a-zA-Z ]+_[&a-zA-Z ]+_.*', message.Subject) and message.Unread:\n",
    "                        message.Unread = False\n",
    "                    continue\n",
    "                if '_reason' in str(attachment):\n",
    "                    try:\n",
    "                        attachment.SaveAsFile(os.path.join(path, 'Upload_folder', 'error_reason', str(message.Sender.GetExchangeUser().PrimarySmtpAddress).split('@')[0].replace('.', '_') + '_' + str(attachment)))\n",
    "                        print(message.Sender.GetExchangeUser().PrimarySmtpAddress)\n",
    "                    except Exception as e:\n",
    "                        print(attachment)\n",
    "                        print(e)\n",
    "                    if re.match('.*<(\\d{4}-\\d{2}-\\d{2}) processed data>\\[\\'\\d{8}_[&a-zA-Z ]+_[&a-zA-Z ]+_.*', message.Subject) and message.Unread:\n",
    "                        message.Unread = False\n",
    "                    continue\n",
    "\n",
    "                else:\n",
    "                    try:                        \n",
    "                        attachment.SaveAsFile(os.path.join(path, 'External_Destination', 'today','amend',str(attachment)))  \n",
    "                        attachment.SaveAsFile(os.path.join(path, 'External_Destination', 'today',str(attachment)))                     \n",
    "                    except Exception as e:\n",
    "                        print(attachment)\n",
    "                        print(e)\n",
    "        \n",
    "        else:\n",
    "            pass"
   ]
  },
  {
   "cell_type": "code",
   "execution_count": 20,
   "metadata": {},
   "outputs": [
    {
     "name": "stdout",
     "output_type": "stream",
     "text": [
      "dobby.cheng@hp.com\n",
      "winson.wang1@hp.com\n",
      "lydia-ym.lee@hp.com\n",
      "dobby.cheng@hp.com\n",
      "abby.hsiung1@hp.com\n"
     ]
    }
   ],
   "source": [
    "saveattachemnts2()"
   ]
  }
 ],
 "metadata": {
  "kernelspec": {
   "display_name": "Python 3",
   "language": "python",
   "name": "python3"
  },
  "language_info": {
   "codemirror_mode": {
    "name": "ipython",
    "version": 3
   },
   "file_extension": ".py",
   "mimetype": "text/x-python",
   "name": "python",
   "nbconvert_exporter": "python",
   "pygments_lexer": "ipython3",
   "version": "3.9.10"
  },
  "orig_nbformat": 4,
  "vscode": {
   "interpreter": {
    "hash": "cadcbe1cf7f77607d04fb86883766795fe82998168b094e073d163801885097d"
   }
  }
 },
 "nbformat": 4,
 "nbformat_minor": 2
}
