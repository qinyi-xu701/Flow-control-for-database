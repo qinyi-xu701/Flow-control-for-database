{
 "cells": [
  {
   "cell_type": "markdown",
   "metadata": {},
   "source": [
    "### Check data correctness"
   ]
  },
  {
   "cell_type": "code",
   "execution_count": 1,
   "metadata": {},
   "outputs": [
    {
     "name": "stdout",
     "output_type": "stream",
     "text": [
      "2024-12-03\n"
     ]
    }
   ],
   "source": [
    "import pyodbc\n",
    "import pandas as pd\n",
    "from pathlib import Path\n",
    "from datetime import date\n",
    "import numpy as np\n",
    "import win32com.client as win32\n",
    "\n",
    "# find the past month\n",
    "start_date = date.today() - pd.DateOffset(weeks=1)\n",
    "start_date = start_date.strftime('%Y-%m-%d')\n",
    "print(start_date)\n",
    "# start_date = '2024-06-05'\n",
    "today = date.today().strftime('%Y-%m-%d')\n",
    "# today = '2024-03-22'"
   ]
  },
  {
   "cell_type": "code",
   "execution_count": 2,
   "metadata": {},
   "outputs": [],
   "source": [
    "# connection\n",
    "conn = pyodbc.connect('Driver={ODBC Driver 17 for SQL Server}; Server=g7w11206g.inc.hpicorp.net; Database=CSI; Trusted_Connection=Yes;')\n",
    "cursor = conn.cursor()\n",
    "\n",
    "# download shortge from SQL\n",
    "cursor.execute(f\"SELECT * FROM OPS.GPS_tbl_ops_shortage_ext where ReportDate >= '{start_date}'\")\n",
    "shortage_ext = pd.DataFrame.from_records(cursor.fetchall(), columns = [i[0] for i in cursor.description])\n",
    "shortage_ext['HP_PN'] = shortage_ext['HP_PN'].str.replace('\\n', ',', regex=False)\n",
    "shortage_ext['FV'] = shortage_ext['FV'].str.replace('\\n', ',', regex=False)\n",
    "\n",
    "# download PNFV from SQL\n",
    "cursor.execute(\"SELECT * FROM OPS.GPS_tbl_ops_PN_FV\")\n",
    "PNFV = pd.DataFrame.from_records(cursor.fetchall(), columns = [i[0] for i in cursor.description])\n",
    "PNFV = PNFV.rename({'Descr':'FV'})"
   ]
  },
  {
   "cell_type": "markdown",
   "metadata": {},
   "source": [
    "#### Check last FD date is empty"
   ]
  },
  {
   "cell_type": "code",
   "execution_count": 3,
   "metadata": {},
   "outputs": [
    {
     "name": "stdout",
     "output_type": "stream",
     "text": [
      "Last FD is blank: 16\n"
     ]
    }
   ],
   "source": [
    "# create the last FD null row\n",
    "lastFDnull = shortage_ext[shortage_ext['last FD date'].isnull()].copy()\n",
    "\n",
    "if len(lastFDnull)>0:\n",
    "    lastFDnull['Issue'] = 'Last FD is blank'\n",
    "    lastFDnull['last FD date'] = 'Blank'\n",
    "    print('Last FD is blank:', len(lastFDnull))\n",
    "else:\n",
    "    lastFDnull = pd.DataFrame()"
   ]
  },
  {
   "cell_type": "markdown",
   "metadata": {},
   "source": [
    "#### Check P1~P3 sum <> total shortage"
   ]
  },
  {
   "cell_type": "code",
   "execution_count": 4,
   "metadata": {},
   "outputs": [
    {
     "name": "stdout",
     "output_type": "stream",
     "text": [
      "P1~P3 sum != total shortage: 0\n"
     ]
    }
   ],
   "source": [
    "# P1 + P2 + P3 != Total\n",
    "QtyMismatch = []\n",
    "for i, row in shortage_ext.iterrows():\n",
    "    P123 = row['P1'] + row['Net P2'] + row['Net P3']\n",
    "    total = row['Total Shortage Qty'] \n",
    "    if P123 != total:\n",
    "        QtyMismatch.append(row)\n",
    "    else:\n",
    "        pass\n",
    "\n",
    "if len(QtyMismatch) > 0:\n",
    "    df_QtyMismatch = pd.DataFrame(QtyMismatch)\n",
    "    df_QtyMismatch['Issue'] = 'P1~P3 sum <> total shortage'\n",
    "else:\n",
    "    df_QtyMismatch = pd.DataFrame()\n",
    "\n",
    "print(f'P1~P3 sum != total shortage: {len(QtyMismatch)}')"
   ]
  },
  {
   "cell_type": "markdown",
   "metadata": {},
   "source": [
    "#### Check BT > P1"
   ]
  },
  {
   "cell_type": "code",
   "execution_count": 5,
   "metadata": {},
   "outputs": [
    {
     "name": "stdout",
     "output_type": "stream",
     "text": [
      "BT shortage > P1: 0\n"
     ]
    }
   ],
   "source": [
    "# BT qty > P1\n",
    "BT_P1 = []\n",
    "for i, row in shortage_ext.iterrows():\n",
    "    BT = row['BT shortage']\n",
    "    P1 = row['P1'] \n",
    "    if BT > P1:\n",
    "        BT_P1.append(row)\n",
    "    else:\n",
    "        pass\n",
    "\n",
    "if len(BT_P1) > 0:\n",
    "    df_BT_P1 = pd.DataFrame(BT_P1)\n",
    "    df_BT_P1['Issue'] = 'BT shortage > P1'\n",
    "else:\n",
    "    df_BT_P1 = pd.DataFrame()\n",
    "\n",
    "print('BT shortage > P1:', len(BT_P1))"
   ]
  },
  {
   "cell_type": "markdown",
   "metadata": {},
   "source": [
    "#### Check BT > total shortage"
   ]
  },
  {
   "cell_type": "code",
   "execution_count": 6,
   "metadata": {},
   "outputs": [
    {
     "name": "stdout",
     "output_type": "stream",
     "text": [
      "BT > total: 0\n"
     ]
    }
   ],
   "source": [
    "# BT > total shortage\n",
    "BT_total = []\n",
    "for i, row in shortage_ext.iterrows():\n",
    "    BT = row['BT shortage']\n",
    "    total = row['Total Shortage Qty'] \n",
    "    if BT > total:\n",
    "        BT_total.append(row)\n",
    "    else:\n",
    "        pass\n",
    "\n",
    "if len(BT_total) > 0:\n",
    "    df_BT_total = pd.DataFrame(BT_total)\n",
    "    df_BT_total['Issue'] = 'BT shortage > Total shortage'\n",
    "else:\n",
    "    df_BT_total = pd.DataFrame()\n",
    "\n",
    "print('BT > total:', len(BT_total))"
   ]
  },
  {
   "cell_type": "markdown",
   "metadata": {},
   "source": [
    "#### Check working on upside > total shortage"
   ]
  },
  {
   "cell_type": "code",
   "execution_count": 7,
   "metadata": {},
   "outputs": [
    {
     "name": "stdout",
     "output_type": "stream",
     "text": [
      "upside > total: 0\n"
     ]
    }
   ],
   "source": [
    "# working on upside > total shortage\n",
    "upside_total = []\n",
    "for i, row in shortage_ext.iterrows():\n",
    "    upside = row['Working on upside']\n",
    "    total = row['Total Shortage Qty'] \n",
    "    if upside > total:\n",
    "        upside_total.append(row)\n",
    "    else:\n",
    "        pass\n",
    "\n",
    "if len(upside_total) > 0:\n",
    "    df_upside_total = pd.DataFrame(upside_total)\n",
    "    df_upside_total['Issue'] = 'Working on upside > Total shortage'\n",
    "else:\n",
    "    df_upside_total = pd.DataFrame()\n",
    "\n",
    "print('upside > total:', len(upside_total))"
   ]
  },
  {
   "cell_type": "markdown",
   "metadata": {},
   "source": [
    "#### Check PN not in PNFV table"
   ]
  },
  {
   "cell_type": "code",
   "execution_count": 8,
   "metadata": {},
   "outputs": [
    {
     "name": "stdout",
     "output_type": "stream",
     "text": [
      "PN not in PNFV: 0\n"
     ]
    }
   ],
   "source": [
    "# PN not in PNFV table\n",
    "PN_list = PNFV.PN.tolist()\n",
    "\n",
    "\n",
    "df_PN_notExist = []\n",
    "for index, row in shortage_ext.iterrows():\n",
    "    hp_pns = row['HP_PN'].split(',')\n",
    "    if all(hp_pn.strip() in PN_list for hp_pn in hp_pns):\n",
    "        pass\n",
    "    else:\n",
    "        row['Issue'] = 'HP_PNs do not exist in the PNFV table'\n",
    "        df_PN_notExist.append(row)\n",
    "\n",
    "if len(df_PN_notExist) > 0:\n",
    "    df_PN_notExist = pd.DataFrame(df_PN_notExist)\n",
    "else:\n",
    "    df_PN_notExist = pd.DataFrame()\n",
    "\n",
    "print('PN not in PNFV:', len(df_PN_notExist))"
   ]
  },
  {
   "cell_type": "markdown",
   "metadata": {},
   "source": [
    "#### Check FV not in PNFV table"
   ]
  },
  {
   "cell_type": "code",
   "execution_count": 9,
   "metadata": {},
   "outputs": [
    {
     "name": "stdout",
     "output_type": "stream",
     "text": [
      "FV not in PNFV: 0\n"
     ]
    }
   ],
   "source": [
    "# FV not in PNFV table\n",
    "FV_list = [fv.strip() for fv in PNFV.Descr.tolist()]\n",
    " \n",
    "\n",
    "df_FV_notExist = []\n",
    "for index, row in shortage_ext.iterrows():\n",
    "    fvs = row['FV'].split(',')\n",
    "    if all(fv.strip() in FV_list for fv in fvs):\n",
    "        pass\n",
    "    else:\n",
    "        row['Issue'] = 'FVs do not exist in the PNFV table'\n",
    "        df_FV_notExist.append(row)\n",
    "\n",
    "if len(df_FV_notExist) > 0:\n",
    "    df_FV_notExist = pd.DataFrame(df_FV_notExist)\n",
    "else:\n",
    "    df_FV_notExist = pd.DataFrame()\n",
    "\n",
    "print('FV not in PNFV:', len(df_FV_notExist))"
   ]
  },
  {
   "cell_type": "code",
   "execution_count": 10,
   "metadata": {},
   "outputs": [
    {
     "data": {
      "text/html": [
       "<div>\n",
       "<style scoped>\n",
       "    .dataframe tbody tr th:only-of-type {\n",
       "        vertical-align: middle;\n",
       "    }\n",
       "\n",
       "    .dataframe tbody tr th {\n",
       "        vertical-align: top;\n",
       "    }\n",
       "\n",
       "    .dataframe thead th {\n",
       "        text-align: right;\n",
       "    }\n",
       "</style>\n",
       "<table border=\"1\" class=\"dataframe\">\n",
       "  <thead>\n",
       "    <tr style=\"text-align: right;\">\n",
       "      <th></th>\n",
       "    </tr>\n",
       "  </thead>\n",
       "  <tbody>\n",
       "  </tbody>\n",
       "</table>\n",
       "</div>"
      ],
      "text/plain": [
       "Empty DataFrame\n",
       "Columns: []\n",
       "Index: []"
      ]
     },
     "execution_count": 10,
     "metadata": {},
     "output_type": "execute_result"
    }
   ],
   "source": [
    "df_FV_notExist"
   ]
  },
  {
   "cell_type": "code",
   "execution_count": 11,
   "metadata": {},
   "outputs": [
    {
     "data": {
      "text/html": [
       "<div>\n",
       "<style scoped>\n",
       "    .dataframe tbody tr th:only-of-type {\n",
       "        vertical-align: middle;\n",
       "    }\n",
       "\n",
       "    .dataframe tbody tr th {\n",
       "        vertical-align: top;\n",
       "    }\n",
       "\n",
       "    .dataframe thead th {\n",
       "        text-align: right;\n",
       "    }\n",
       "</style>\n",
       "<table border=\"1\" class=\"dataframe\">\n",
       "  <thead>\n",
       "    <tr style=\"text-align: right;\">\n",
       "      <th></th>\n",
       "      <th>ODM</th>\n",
       "      <th>Item</th>\n",
       "      <th>Commodity</th>\n",
       "      <th>FV</th>\n",
       "      <th>Platform</th>\n",
       "      <th>P1</th>\n",
       "      <th>Net P2</th>\n",
       "      <th>Net P3</th>\n",
       "      <th>Total Shortage Qty</th>\n",
       "      <th>BT shortage</th>\n",
       "      <th>Working on upside</th>\n",
       "      <th>ReportDate</th>\n",
       "      <th>last FD date</th>\n",
       "      <th>HP_PN</th>\n",
       "      <th>BuyerName</th>\n",
       "    </tr>\n",
       "  </thead>\n",
       "  <tbody>\n",
       "  </tbody>\n",
       "</table>\n",
       "</div>"
      ],
      "text/plain": [
       "Empty DataFrame\n",
       "Columns: [ODM, Item, Commodity, FV, Platform, P1, Net P2, Net P3, Total Shortage Qty, BT shortage, Working on upside, ReportDate, last FD date, HP_PN, BuyerName]\n",
       "Index: []"
      ]
     },
     "execution_count": 11,
     "metadata": {},
     "output_type": "execute_result"
    }
   ],
   "source": [
    "shortage_test = shortage_ext.copy()\n",
    "\n",
    "shortage_test = shortage_test[(shortage_test['BuyerName'] == 'WangWinson(CW)') & (shortage_test['ReportDate'] == '2024-06-12')]\n",
    "\n",
    "shortage_test"
   ]
  },
  {
   "cell_type": "markdown",
   "metadata": {},
   "source": [
    "#### Concat all result"
   ]
  },
  {
   "cell_type": "code",
   "execution_count": 12,
   "metadata": {},
   "outputs": [],
   "source": [
    "# data type management\n",
    "try:\n",
    "    error_all = pd.concat([lastFDnull, df_QtyMismatch, df_BT_P1, df_BT_total, df_upside_total, df_FV_notExist, df_PN_notExist], axis=0)\n",
    "    error_all['P1'] = error_all['P1'].astype(int)\n",
    "    error_all['Net P2'] = error_all['Net P2'].astype(int)\n",
    "    error_all['Net P3'] = error_all['Net P3'].astype(int)\n",
    "    error_all['BT shortage'] = error_all['BT shortage'].astype(int)\n",
    "    error_all['Working on upside'] = error_all['Working on upside'].astype(int)\n",
    "    error_all['Total Shortage Qty'] = error_all['Total Shortage Qty'].astype(int)\n",
    "except:\n",
    "    error_all = pd.DataFrame()\n",
    "    print('No error found')"
   ]
  },
  {
   "cell_type": "code",
   "execution_count": 13,
   "metadata": {},
   "outputs": [],
   "source": [
    "# concat same errors\n",
    "if len(error_all) > 0:\n",
    "    # fist group by all column except issue, then agg function will aggreate the words\n",
    "    concatenated_issues = error_all.groupby(list(error_all.columns.difference(['Issue']))).agg({'Issue': ', '.join}).reset_index()\n",
    "    error_all = concatenated_issues.drop_duplicates()\n",
    "    error_all = error_all[['BuyerName','Issue','ODM','Item','Commodity','FV','Platform','P1','Net P2','Net P3','Total Shortage Qty','BT shortage','Working on upside','ReportDate','last FD date','HP_PN',]]\n",
    "else:\n",
    "    pass"
   ]
  },
  {
   "cell_type": "markdown",
   "metadata": {},
   "source": [
    "# Send email"
   ]
  },
  {
   "cell_type": "code",
   "execution_count": 14,
   "metadata": {},
   "outputs": [],
   "source": [
    "if (len(error_all) > 0):\n",
    "    # sent to list\n",
    "    To_list = 'gps.taiwan.nb.buy-sell@hp.com'\n",
    "    CC_list = 'spencer.cheng1@hp.com; howie.chang1@hp.com'\n",
    "\n",
    "    # start creating the email\n",
    "    mail = win32.Dispatch(\"Outlook.Application\").CreateItem(0)\n",
    "    mail.To = To_list\n",
    "    mail.CC = CC_list\n",
    "    mail.Subject = 'BSP B/S shortage dashboard alert ' + '<From Report Date: '+ start_date+' to ' + today + '>'\n",
    "\n",
    "    # Step 1: Highlight only the BuyerName values\n",
    "    error_all['BuyerName'] = error_all['BuyerName'].apply(lambda name: f'<span style=\"background-color: yellow;\">{name}</span>')\n",
    "\n",
    "    # Step 2: Convert the DataFrame to HTML, allowing HTML content within cells\n",
    "    html_error_all = error_all.to_html(escape=False, index=False)\n",
    "\n",
    "    # message --> use the html content from the previous step 1&2 to \n",
    "    signature = \"<br><br>Best Regards,<br>Newcomen Project Team\"\n",
    "    message = f\"\"\"Hi team,<br><br>\n",
    "    Here are items that need your amendment in shortage dashboard. (data starting from: <font color='blue'>{start_date})</font><br>\n",
    "    Please complete it by next workday and contact project team if any question, thank you.<br>\n",
    "    * Due to database refresh timing gap, items you have done action might still be on the list here. Please ignore if you have done action. Let project team know if your amendment is not completed for days.<br><br>\n",
    "    {html_error_all}<br>{signature}\"\"\"\n",
    "\n",
    "    # make sure email fully initialized, and only write after <body>\n",
    "    mail.GetInspector \n",
    "    index = mail.HTMLbody.find('>', mail.HTMLbody.find('<body')) \n",
    "\n",
    "    # generate email\n",
    "    mail.HTMLBody = message\n",
    "    mail.display()\n",
    "\n",
    "else:\n",
    "    To_list = 'gps.taiwan.nb.buy-sell@hp.com'\n",
    "    CC_list = 'spencer.cheng1@hp.com; howie.chang1@hp.com'\n",
    "\n",
    "    # start creating the email\n",
    "    mail = win32.Dispatch(\"Outlook.Application\").CreateItem(0)\n",
    "    mail.To = To_list\n",
    "    mail.CC = CC_list\n",
    "    mail.Subject = 'BSP B/S shortage dashboard alert ' + '<From Report Date: '+ start_date+' to ' + today + '>'\n",
    "    signature = \"<br><br>Best Regards,<br>Newcomen Project Team\"\n",
    "    message = f\"\"\"Hi team,<br><br>\n",
    "    No item needed for amendment. (data starting from: <font color='blue'>{start_date})</font><br>\n",
    "    Thank you.<br><br>\"\"\"\n",
    "\n",
    "    # make sure email fully initialized, and only write after <body>\n",
    "    mail.GetInspector \n",
    "    index = mail.HTMLbody.find('>', mail.HTMLbody.find('<body')) \n",
    "\n",
    "    # generate email\n",
    "    mail.HTMLBody = message\n",
    "    mail.display()\n",
    "    print('No error found, no email sent')"
   ]
  },
  {
   "cell_type": "code",
   "execution_count": null,
   "metadata": {},
   "outputs": [],
   "source": []
  }
 ],
 "metadata": {
  "kernelspec": {
   "display_name": "Python 3",
   "language": "python",
   "name": "python3"
  },
  "language_info": {
   "codemirror_mode": {
    "name": "ipython",
    "version": 3
   },
   "file_extension": ".py",
   "mimetype": "text/x-python",
   "name": "python",
   "nbconvert_exporter": "python",
   "pygments_lexer": "ipython3",
   "version": "3.9.10"
  }
 },
 "nbformat": 4,
 "nbformat_minor": 2
}
