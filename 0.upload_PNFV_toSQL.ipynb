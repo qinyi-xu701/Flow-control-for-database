{
 "cells": [
  {
   "cell_type": "code",
   "execution_count": 1,
   "metadata": {},
   "outputs": [],
   "source": [
    "import pyodbc\n",
    "import pandas as pd\n",
    "from pathlib import Path\n",
    "from pandas.api.types import is_string_dtype\n",
    "from pandas.api.types import is_numeric_dtype\n",
    "from datetime import date\n",
    "import numpy as np\n",
    "import getpass\n",
    "import time\n",
    "\n",
    "# for collaboration\n",
    "username = getpass.getuser()\n",
    "username\n",
    "\n",
    "# Start the timer\n",
    "start_time = time.time()"
   ]
  },
  {
   "cell_type": "code",
   "execution_count": 2,
   "metadata": {},
   "outputs": [
    {
     "data": {
      "text/plain": [
       "'\\ncurrently the folder for buyer to update is still in GPSTW SOP - 2021 日新\\nREMEMBER to change the path when the folder officailly changed to GPS TW Innovation\\n'"
      ]
     },
     "execution_count": 2,
     "metadata": {},
     "output_type": "execute_result"
    }
   ],
   "source": [
    "# home and time\n",
    "home = Path.home()\n",
    "todaystr = date.today().strftime('%Y-%m-%d')\n",
    "# PNFV_alternative = pd.read_excel(Path(home, 'HP Inc', 'GPS TW Innovation - Documents', 'Users', 'GPS', 'PNFV', 'alternative.xlsx'))\n",
    "\n",
    "#if username == 'QiXu260':\n",
    "#    PNFV = pd.read_excel(Path(home, 'HP Inc', 'GPS TW Innovation - 文件', 'Users', 'GPS', 'Shortage management related (Ri Xin)','PN FV description mapping table_ALL.xlsx')) # Jesse    \n",
    "#else:    \n",
    "PNFV = pd.read_excel(Path(home,'New OneDrive', 'HP Inc', 'GPS TW Innovation - Documents', 'Users', 'BSP', 'Shortage management related (Ri Xin)','PN FV description mapping table_ALL.xlsx')) # Dustin\n",
    "\n",
    "#PNFV = pd.read_excel(r'C:\\Users\\QiXu260\\Desktop\\PN FV description mapping table_ALL.xlsx')\n",
    "\n",
    "# someone keep upload duplicated rows\n",
    "PNFV = PNFV.drop_duplicates()\n",
    "PNFV = PNFV[['Commodity','Supplier','PN','Descr','Alternative part flag']]\n",
    "\n",
    "\"\"\"\n",
    "currently the folder for buyer to update is still in GPSTW SOP - 2021 日新\n",
    "REMEMBER to change the path when the folder officailly changed to GPS TW Innovation\n",
    "\"\"\""
   ]
  },
  {
   "cell_type": "code",
   "execution_count": 3,
   "metadata": {},
   "outputs": [
    {
     "name": "stdout",
     "output_type": "stream",
     "text": [
      "0 rows to delete\n",
      "1 rows to upload\n"
     ]
    }
   ],
   "source": [
    "# find the old part and upload new\n",
    "conn = pyodbc.connect('Driver={SQL Server}; Server=g7w11206g.inc.hpicorp.net; Database=CSI; Trusted_Connection=Yes;')\n",
    "cursor = conn.cursor()\n",
    "\n",
    "# download from SQL\n",
    "cursor.execute(f\"SELECT * FROM OPS.GPS_tbl_ops_PN_FV\")\n",
    "PNFV_from_SQL = pd.DataFrame.from_records(cursor.fetchall(), columns = [i[0] for i in cursor.description])\n",
    "PNFV_from_SQL['alternative part flag'] = PNFV_from_SQL['alternative part flag'].replace({None: np.nan,'nan':np.nan})\n",
    "PNFV_from_SQL = PNFV_from_SQL.rename(columns={'alternative part flag':'Alternative part flag'})\n",
    "\n",
    "# make adjustmnet \n",
    "PNFV_from_SQL['Alternative part flag'] = PNFV_from_SQL['Alternative part flag'].astype(str)\n",
    "PNFV['Alternative part flag'] = PNFV['Alternative part flag'].astype(str)\n",
    "\n",
    "# find the rows need to upload and delete\n",
    "diff_df = PNFV_from_SQL.merge(PNFV, indicator=True, how='outer', on = ['Commodity','Supplier','PN','Descr','Alternative part flag'])\n",
    "rows_to_delete = diff_df[diff_df['_merge'] == 'left_only']\n",
    "rows_to_insert = diff_df[diff_df['_merge'] == 'right_only']\n",
    "\n",
    "print(str(len(rows_to_delete)) + ' rows to delete')\n",
    "print(str(len(rows_to_insert)) + ' rows to upload')"
   ]
  },
  {
   "cell_type": "code",
   "execution_count": 4,
   "metadata": {},
   "outputs": [],
   "source": [
    "# Delete rows from the SQL table that are not in the local DataFrame\n",
    "for index, row in rows_to_delete.iterrows():\n",
    "    cursor.execute(f\"DELETE FROM OPS.GPS_tbl_ops_PN_FV WHERE Commodity = ? AND Supplier = ? AND PN = ? AND Descr = ?\", \n",
    "                   row['Commodity'], row['Supplier'], row['PN'], row['Descr'])\n",
    "conn.commit()\n",
    "\n",
    "# Upload the local file rows to SQL table\n",
    "for index, row in rows_to_insert.iterrows():\n",
    "    # Directly use None for null values\n",
    "    commodity = row['Commodity'] if pd.notnull(row['Commodity']) else None\n",
    "    supplier = row['Supplier'] if pd.notnull(row['Supplier']) else None\n",
    "    pn = row['PN'] if pd.notnull(row['PN']) else None\n",
    "    descr = row['Descr'] if pd.notnull(row['Descr']) else None\n",
    "    alternative = row['Alternative part flag'] if pd.notnull(row['Alternative part flag']) else None\n",
    "\n",
    "    # Execute the insert statement with parameters\n",
    "    cursor.execute(\"INSERT INTO OPS.GPS_tbl_ops_PN_FV (Commodity, Supplier, PN, Descr, [Alternative part flag]) VALUES (?, ?, ?, ?, ?)\", \n",
    "                commodity, supplier, pn, descr, alternative)\n",
    "    conn.commit()\n",
    "\n",
    "# Close the cursor and connection\n",
    "cursor.close()\n",
    "conn.close()"
   ]
  },
  {
   "cell_type": "code",
   "execution_count": 5,
   "metadata": {},
   "outputs": [
    {
     "name": "stdout",
     "output_type": "stream",
     "text": [
      "Records aligned, upload successfully!\n"
     ]
    }
   ],
   "source": [
    "# check whether upload successfully\n",
    "conn = pyodbc.connect('Driver={SQL Server}; Server=g7w11206g.inc.hpicorp.net; Database=CSI; Trusted_Connection=Yes;')\n",
    "cursor = conn.cursor()\n",
    "\n",
    "# download from SQL\n",
    "cursor.execute(f\"SELECT * FROM OPS.GPS_tbl_ops_PN_FV\")\n",
    "PNFV_from_SQL_new = pd.DataFrame.from_records(cursor.fetchall(), columns = [i[0] for i in cursor.description])\n",
    "\n",
    "# check diff\n",
    "diff_df_new = PNFV_from_SQL_new.merge(PNFV, indicator=True, how='outer', on = ['Commodity','Supplier','PN','Descr'])\n",
    "rows_to_delete_new = diff_df_new[diff_df_new['_merge'] == 'left_only']\n",
    "rows_to_insert_new = diff_df_new[diff_df_new['_merge'] == 'right_only']\n",
    "\n",
    "# Check if there are no rows to delete or insert\n",
    "if rows_to_delete_new.empty and rows_to_insert_new.empty:\n",
    "    print('Records aligned, upload successfully!')\n",
    "else:\n",
    "    print('Please try again, something went wrong.')"
   ]
  },
  {
   "cell_type": "code",
   "execution_count": 6,
   "metadata": {},
   "outputs": [
    {
     "name": "stdout",
     "output_type": "stream",
     "text": [
      "The code used 10.28 seconds, it is super fast!\n"
     ]
    }
   ],
   "source": [
    "# End the timer\n",
    "end_time = time.time()\n",
    "print(\"The code used\", round(end_time-start_time,2), \"seconds, it is super fast!\")"
   ]
  },
  {
   "cell_type": "code",
   "execution_count": 7,
   "metadata": {},
   "outputs": [
    {
     "name": "stdout",
     "output_type": "stream",
     "text": [
      "CPU,INTEL,N25852-N08,DT INTEL Raptor Lake i7-13700 deleted from CSI.OPS.GPS_tbl_ops_PN_FV\n",
      "Memory,MICRON,N20973-682,16GB DDR5-5600 deleted from CSI.OPS.GPS_tbl_ops_PN_FV\n",
      "LCD,INNOLUX,N69403-JD1,15.6FHD BV UWVA EDP SLIMNB 300N TOP deleted from CSI.OPS.GPS_tbl_ops_PN_FV\n",
      "CPU,INTEL,N25852-N08,DT INTEL Raptor Lake i7-13700uploaded to CSI.OPS.GPS_tbl_ops_PN_FV\n",
      "CPU,INTEL,N25852-N08,DT INTEL Raptor Lake i7-13700uploaded to CSI.OPS.GPS_tbl_ops_PN_FV\n",
      "Memory,MICRON,N20973-682,16GB DDR5-5600uploaded to CSI.OPS.GPS_tbl_ops_PN_FV\n",
      "Memory,MICRON,N20973-682,16GB DDR5-5600uploaded to CSI.OPS.GPS_tbl_ops_PN_FV\n",
      "CPU,INTEL,N25852-N08,DT INTEL Raptor Lake i7-13700uploaded to CSI.OPS.GPS_tbl_ops_PN_FV\n",
      "CPU,INTEL,N25852-N08,DT INTEL Raptor Lake i7-13700uploaded to CSI.OPS.GPS_tbl_ops_PN_FV\n",
      "Memory,MICRON,N20973-682,16GB DDR5-5600uploaded to CSI.OPS.GPS_tbl_ops_PN_FV\n",
      "Memory,MICRON,N20973-682,16GB DDR5-5600uploaded to CSI.OPS.GPS_tbl_ops_PN_FV\n",
      "CPU,INTEL,N25852-N08,DT INTEL Raptor Lake i7-13700uploaded to CSI.OPS.GPS_tbl_ops_PN_FV\n",
      "CPU,INTEL,N25852-N08,DT INTEL Raptor Lake i7-13700uploaded to CSI.OPS.GPS_tbl_ops_PN_FV\n",
      "Memory,MICRON,N20973-682,16GB DDR5-5600uploaded to CSI.OPS.GPS_tbl_ops_PN_FV\n",
      "Memory,MICRON,N20973-682,16GB DDR5-5600uploaded to CSI.OPS.GPS_tbl_ops_PN_FV\n",
      "CPU,INTEL,N25852-N08,DT INTEL Raptor Lake i7-13700uploaded to CSI.OPS.GPS_tbl_ops_PN_FV\n",
      "CPU,INTEL,N25852-N08,DT INTEL Raptor Lake i7-13700uploaded to CSI.OPS.GPS_tbl_ops_PN_FV\n",
      "Memory,MICRON,N20973-682,16GB DDR5-5600uploaded to CSI.OPS.GPS_tbl_ops_PN_FV\n",
      "Memory,MICRON,N20973-682,16GB DDR5-5600uploaded to CSI.OPS.GPS_tbl_ops_PN_FV\n",
      "Memory,MICRON,N20973-682,16GB DDR5-5600uploaded to CSI.OPS.GPS_tbl_ops_PN_FV\n",
      "CPU,INTEL,N25852-N08,DT INTEL Raptor Lake i7-13700uploaded to CSI.OPS.GPS_tbl_ops_PN_FV\n",
      "Memory,MICRON,N20973-682,16GB DDR5-5600uploaded to CSI.OPS.GPS_tbl_ops_PN_FV\n",
      "Memory,MICRON,N20973-682,16GB DDR5-5600uploaded to CSI.OPS.GPS_tbl_ops_PN_FV\n",
      "CPU,INTEL,N25852-N08,DT INTEL Raptor Lake i7-13700uploaded to CSI.OPS.GPS_tbl_ops_PN_FV\n",
      "CPU,INTEL,N25852-N08,DT INTEL Raptor Lake i7-13700uploaded to CSI.OPS.GPS_tbl_ops_PN_FV\n",
      "Memory,MICRON,N20973-682,16GB DDR5-5600uploaded to CSI.OPS.GPS_tbl_ops_PN_FV\n",
      "Memory,MICRON,N20973-682,16GB DDR5-5600uploaded to CSI.OPS.GPS_tbl_ops_PN_FV\n",
      "CPU,INTEL,N25852-N08,DT INTEL Raptor Lake i7-13700uploaded to CSI.OPS.GPS_tbl_ops_PN_FV\n",
      "CPU,INTEL,N25852-N08,DT INTEL Raptor Lake i7-13700uploaded to CSI.OPS.GPS_tbl_ops_PN_FV\n",
      "Memory,MICRON,N20973-682,16GB DDR5-5600uploaded to CSI.OPS.GPS_tbl_ops_PN_FV\n",
      "Memory,MICRON,N20973-682,16GB DDR5-5600uploaded to CSI.OPS.GPS_tbl_ops_PN_FV\n",
      "CPU,INTEL,N25852-N08,DT INTEL Raptor Lake i7-13700uploaded to CSI.OPS.GPS_tbl_ops_PN_FV\n",
      "CPU,INTEL,N25852-N08,DT INTEL Raptor Lake i7-13700uploaded to CSI.OPS.GPS_tbl_ops_PN_FV\n",
      "Memory,MICRON,N20973-682,16GB DDR5-5600uploaded to CSI.OPS.GPS_tbl_ops_PN_FV\n",
      "Memory,MICRON,N20973-682,16GB DDR5-5600uploaded to CSI.OPS.GPS_tbl_ops_PN_FV\n",
      "CPU,INTEL,N25852-N08,DT INTEL Raptor Lake i7-13700uploaded to CSI.OPS.GPS_tbl_ops_PN_FV\n",
      "CPU,INTEL,N25852-N08,DT INTEL Raptor Lake i7-13700uploaded to CSI.OPS.GPS_tbl_ops_PN_FV\n",
      "CPU,INTEL,N25852-N08,DT INTEL Raptor Lake i7-13700uploaded to CSI.OPS.GPS_tbl_ops_PN_FV\n",
      "CPU,INTEL,N25852-N08,DT INTEL Raptor Lake i7-13700uploaded to CSI.OPS.GPS_tbl_ops_PN_FV\n",
      "Memory,MICRON,N20973-682,16GB DDR5-5600uploaded to CSI.OPS.GPS_tbl_ops_PN_FV\n",
      "Memory,MICRON,N20973-682,16GB DDR5-5600uploaded to CSI.OPS.GPS_tbl_ops_PN_FV\n",
      "CPU,INTEL,N25852-N08,DT INTEL Raptor Lake i7-13700uploaded to CSI.OPS.GPS_tbl_ops_PN_FV\n",
      "CPU,INTEL,N25852-N08,DT INTEL Raptor Lake i7-13700uploaded to CSI.OPS.GPS_tbl_ops_PN_FV\n",
      "Memory,MICRON,N20973-682,16GB DDR5-5600uploaded to CSI.OPS.GPS_tbl_ops_PN_FV\n",
      "Memory,MICRON,N20973-682,16GB DDR5-5600uploaded to CSI.OPS.GPS_tbl_ops_PN_FV\n",
      "CPU,INTEL,N25852-N08,DT INTEL Raptor Lake i7-13700uploaded to CSI.OPS.GPS_tbl_ops_PN_FV\n",
      "CPU,INTEL,N25852-N08,DT INTEL Raptor Lake i7-13700uploaded to CSI.OPS.GPS_tbl_ops_PN_FV\n",
      "Memory,MICRON,N20973-682,16GB DDR5-5600uploaded to CSI.OPS.GPS_tbl_ops_PN_FV\n",
      "Memory,MICRON,N20973-682,16GB DDR5-5600uploaded to CSI.OPS.GPS_tbl_ops_PN_FV\n",
      "CPU,INTEL,N25852-N08,DT INTEL Raptor Lake i7-13700uploaded to CSI.OPS.GPS_tbl_ops_PN_FV\n",
      "CPU,INTEL,N25852-N08,DT INTEL Raptor Lake i7-13700uploaded to CSI.OPS.GPS_tbl_ops_PN_FV\n",
      "Memory,MICRON,N20973-682,16GB DDR5-5600uploaded to CSI.OPS.GPS_tbl_ops_PN_FV\n",
      "Memory,MICRON,N20973-682,16GB DDR5-5600uploaded to CSI.OPS.GPS_tbl_ops_PN_FV\n",
      "CPU,INTEL,N25852-N08,DT INTEL Raptor Lake i7-13700uploaded to CSI.OPS.GPS_tbl_ops_PN_FV\n",
      "CPU,INTEL,N25852-N08,DT INTEL Raptor Lake i7-13700uploaded to CSI.OPS.GPS_tbl_ops_PN_FV\n",
      "Memory,MICRON,N20973-682,16GB DDR5-5600uploaded to CSI.OPS.GPS_tbl_ops_PN_FV\n",
      "Memory,MICRON,N20973-682,16GB DDR5-5600uploaded to CSI.OPS.GPS_tbl_ops_PN_FV\n",
      "CPU,INTEL,N25852-N08,DT INTEL Raptor Lake i7-13700uploaded to CSI.OPS.GPS_tbl_ops_PN_FV\n",
      "CPU,INTEL,N25852-N08,DT INTEL Raptor Lake i7-13700uploaded to CSI.OPS.GPS_tbl_ops_PN_FV\n",
      "Memory,MICRON,N20973-682,16GB DDR5-5600uploaded to CSI.OPS.GPS_tbl_ops_PN_FV\n",
      "Memory,MICRON,N20973-682,16GB DDR5-5600uploaded to CSI.OPS.GPS_tbl_ops_PN_FV\n",
      "CPU,INTEL,N25852-N08,DT INTEL Raptor Lake i7-13700uploaded to CSI.OPS.GPS_tbl_ops_PN_FV\n",
      "CPU,INTEL,N25852-N08,DT INTEL Raptor Lake i7-13700uploaded to CSI.OPS.GPS_tbl_ops_PN_FV\n",
      "Memory,MICRON,N20973-682,16GB DDR5-5600uploaded to CSI.OPS.GPS_tbl_ops_PN_FV\n",
      "Memory,MICRON,N20973-682,16GB DDR5-5600uploaded to CSI.OPS.GPS_tbl_ops_PN_FV\n",
      "CPU,INTEL,N25852-N08,DT INTEL Raptor Lake i7-13700uploaded to CSI.OPS.GPS_tbl_ops_PN_FV\n",
      "CPU,INTEL,N25852-N08,DT INTEL Raptor Lake i7-13700uploaded to CSI.OPS.GPS_tbl_ops_PN_FV\n",
      "Memory,MICRON,N20973-682,16GB DDR5-5600uploaded to CSI.OPS.GPS_tbl_ops_PN_FV\n",
      "Memory,MICRON,N20973-682,16GB DDR5-5600uploaded to CSI.OPS.GPS_tbl_ops_PN_FV\n",
      "CPU,INTEL,N25852-N08,DT INTEL Raptor Lake i7-13700uploaded to CSI.OPS.GPS_tbl_ops_PN_FV\n",
      "CPU,INTEL,N25852-N08,DT INTEL Raptor Lake i7-13700uploaded to CSI.OPS.GPS_tbl_ops_PN_FV\n",
      "Memory,MICRON,N20973-682,16GB DDR5-5600uploaded to CSI.OPS.GPS_tbl_ops_PN_FV\n",
      "Memory,MICRON,N20973-682,16GB DDR5-5600uploaded to CSI.OPS.GPS_tbl_ops_PN_FV\n",
      "CPU,INTEL,N25852-N08,DT INTEL Raptor Lake i7-13700uploaded to CSI.OPS.GPS_tbl_ops_PN_FV\n",
      "CPU,INTEL,N25852-N08,DT INTEL Raptor Lake i7-13700uploaded to CSI.OPS.GPS_tbl_ops_PN_FV\n",
      "Memory,MICRON,N20973-682,16GB DDR5-5600uploaded to CSI.OPS.GPS_tbl_ops_PN_FV\n",
      "Memory,MICRON,N20973-682,16GB DDR5-5600uploaded to CSI.OPS.GPS_tbl_ops_PN_FV\n",
      "CPU,INTEL,N25852-N08,DT INTEL Raptor Lake i7-13700uploaded to CSI.OPS.GPS_tbl_ops_PN_FV\n",
      "CPU,INTEL,N25852-N08,DT INTEL Raptor Lake i7-13700uploaded to CSI.OPS.GPS_tbl_ops_PN_FV\n",
      "Memory,MICRON,N20973-682,16GB DDR5-5600uploaded to CSI.OPS.GPS_tbl_ops_PN_FV\n",
      "Memory,MICRON,N20973-682,16GB DDR5-5600uploaded to CSI.OPS.GPS_tbl_ops_PN_FV\n",
      "CPU,INTEL,N25852-N08,DT INTEL Raptor Lake i7-13700uploaded to CSI.OPS.GPS_tbl_ops_PN_FV\n",
      "CPU,INTEL,N25852-N08,DT INTEL Raptor Lake i7-13700uploaded to CSI.OPS.GPS_tbl_ops_PN_FV\n",
      "Memory,MICRON,N20973-682,16GB DDR5-5600uploaded to CSI.OPS.GPS_tbl_ops_PN_FV\n",
      "Memory,MICRON,N20973-682,16GB DDR5-5600uploaded to CSI.OPS.GPS_tbl_ops_PN_FV\n",
      "CPU,INTEL,N25852-N08,DT INTEL Raptor Lake i7-13700uploaded to CSI.OPS.GPS_tbl_ops_PN_FV\n",
      "CPU,INTEL,N25852-N08,DT INTEL Raptor Lake i7-13700uploaded to CSI.OPS.GPS_tbl_ops_PN_FV\n",
      "Memory,MICRON,N20973-682,16GB DDR5-5600uploaded to CSI.OPS.GPS_tbl_ops_PN_FV\n",
      "Memory,MICRON,N20973-682,16GB DDR5-5600uploaded to CSI.OPS.GPS_tbl_ops_PN_FV\n",
      "CPU,INTEL,N25852-N08,DT INTEL Raptor Lake i7-13700uploaded to CSI.OPS.GPS_tbl_ops_PN_FV\n",
      "CPU,INTEL,N25852-N08,DT INTEL Raptor Lake i7-13700uploaded to CSI.OPS.GPS_tbl_ops_PN_FV\n",
      "Memory,MICRON,N20973-682,16GB DDR5-5600uploaded to CSI.OPS.GPS_tbl_ops_PN_FV\n",
      "Memory,MICRON,N20973-682,16GB DDR5-5600uploaded to CSI.OPS.GPS_tbl_ops_PN_FV\n",
      "CPU,INTEL,N25852-N08,DT INTEL Raptor Lake i7-13700uploaded to CSI.OPS.GPS_tbl_ops_PN_FV\n",
      "CPU,INTEL,N25852-N08,DT INTEL Raptor Lake i7-13700uploaded to CSI.OPS.GPS_tbl_ops_PN_FV\n",
      "Memory,MICRON,N20973-682,16GB DDR5-5600uploaded to CSI.OPS.GPS_tbl_ops_PN_FV\n",
      "Memory,MICRON,N20973-682,16GB DDR5-5600uploaded to CSI.OPS.GPS_tbl_ops_PN_FV\n",
      "CPU,INTEL,N25852-N08,DT INTEL Raptor Lake i7-13700uploaded to CSI.OPS.GPS_tbl_ops_PN_FV\n",
      "CPU,INTEL,N25852-N08,DT INTEL Raptor Lake i7-13700uploaded to CSI.OPS.GPS_tbl_ops_PN_FV\n",
      "Memory,MICRON,N20973-682,16GB DDR5-5600uploaded to CSI.OPS.GPS_tbl_ops_PN_FV\n",
      "Memory,MICRON,N20973-682,16GB DDR5-5600uploaded to CSI.OPS.GPS_tbl_ops_PN_FV\n",
      "CPU,INTEL,N25852-N08,DT INTEL Raptor Lake i7-13700uploaded to CSI.OPS.GPS_tbl_ops_PN_FV\n",
      "CPU,INTEL,N25852-N08,DT INTEL Raptor Lake i7-13700uploaded to CSI.OPS.GPS_tbl_ops_PN_FV\n",
      "Memory,MICRON,N20973-682,16GB DDR5-5600uploaded to CSI.OPS.GPS_tbl_ops_PN_FV\n",
      "Memory,MICRON,N20973-682,16GB DDR5-5600uploaded to CSI.OPS.GPS_tbl_ops_PN_FV\n",
      "CPU,INTEL,N25852-N08,DT INTEL Raptor Lake i7-13700uploaded to CSI.OPS.GPS_tbl_ops_PN_FV\n",
      "CPU,INTEL,N25852-N08,DT INTEL Raptor Lake i7-13700uploaded to CSI.OPS.GPS_tbl_ops_PN_FV\n",
      "Memory,MICRON,N20973-682,16GB DDR5-5600uploaded to CSI.OPS.GPS_tbl_ops_PN_FV\n",
      "Memory,MICRON,N20973-682,16GB DDR5-5600uploaded to CSI.OPS.GPS_tbl_ops_PN_FV\n",
      "CPU,INTEL,N25852-N08,DT INTEL Raptor Lake i7-13700uploaded to CSI.OPS.GPS_tbl_ops_PN_FV\n",
      "CPU,INTEL,N25852-N08,DT INTEL Raptor Lake i7-13700uploaded to CSI.OPS.GPS_tbl_ops_PN_FV\n",
      "LCD,INNOLUX,N69403-JD1,15.6FHD BV UWVA EDP SLIMNB 300N TOPuploaded to CSI.OPS.GPS_tbl_ops_PN_FV\n",
      "Memory,MICRON,N20973-682,16GB DDR5-5600uploaded to CSI.OPS.GPS_tbl_ops_PN_FV\n",
      "Memory,MICRON,N20973-682,16GB DDR5-5600uploaded to CSI.OPS.GPS_tbl_ops_PN_FV\n"
     ]
    }
   ],
   "source": [
    "# check the duplicated rows\n",
    "duplicate_rows = PNFV_from_SQL[PNFV_from_SQL.duplicated()]\n",
    "for index,row in duplicate_rows.iterrows():\n",
    "    delete_query = \"DELETE FROM CSI.OPS.GPS_tbl_ops_PN_FV WHERE Commodity =? AND Supplier=? AND PN=? AND Descr=? AND [Alternative part flag]=?\"\n",
    "    cursor.execute(delete_query,(row['Commodity'],row['Supplier'],row['PN'],row['Descr'],str(row['Alternative part flag'])))\n",
    "    if cursor.rowcount:\n",
    "        # print(row)\n",
    "        print(f\"{row['Commodity']},{row['Supplier']},{row['PN']},{row['Descr']} deleted from CSI.OPS.GPS_tbl_ops_PN_FV\")\n",
    "conn.commit()\n",
    "for index, row in duplicate_rows.iterrows():\n",
    "    s_Commodity = row['Commodity']\n",
    "    s_supplier = row['Supplier']\n",
    "    s_PN = row['PN']\n",
    "    s_descr = row['Descr']\n",
    "    s_alternative = str(row['Alternative part flag'])\n",
    "\n",
    "    cursor.execute(f\"INSERT INTO CSI.OPS.GPS_tbl_ops_PN_FV (Commodity, Supplier, PN, Descr, [Alternative part flag] )\\\n",
    "                    VALUES('{s_Commodity}','{s_supplier}','{s_PN}','{s_descr}','{s_alternative}')\".replace(\"'NaN'\", \"'NULL'\"))\n",
    "    if cursor.rowcount:\n",
    "        # print(row)\n",
    "        print(f\"{row['Commodity']},{row['Supplier']},{row['PN']},{row['Descr'] }uploaded to CSI.OPS.GPS_tbl_ops_PN_FV\")\n",
    "conn.commit()\n",
    "conn.close()"
   ]
  }
 ],
 "metadata": {
  "kernelspec": {
   "display_name": "Python 3",
   "language": "python",
   "name": "python3"
  },
  "language_info": {
   "codemirror_mode": {
    "name": "ipython",
    "version": 3
   },
   "file_extension": ".py",
   "mimetype": "text/x-python",
   "name": "python",
   "nbconvert_exporter": "python",
   "pygments_lexer": "ipython3",
   "version": "3.9.10"
  },
  "orig_nbformat": 4,
  "vscode": {
   "interpreter": {
    "hash": "cadcbe1cf7f77607d04fb86883766795fe82998168b094e073d163801885097d"
   }
  }
 },
 "nbformat": 4,
 "nbformat_minor": 2
}
